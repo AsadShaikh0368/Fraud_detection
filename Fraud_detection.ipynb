{
  "cells": [
    {
      "cell_type": "markdown",
      "metadata": {
        "id": "4f7479e0"
      },
      "source": [
        "# Q1. Performing Data cleaning including missing values, outliers and multi-collinearity."
      ],
      "id": "4f7479e0"
    },
    {
      "cell_type": "code",
      "execution_count": 1,
      "metadata": {
        "id": "DUAnvBexMHDp"
      },
      "outputs": [],
      "source": [
        "# from google.colab import drive\n",
        "# drive.mount('/content/drive')"
      ],
      "id": "DUAnvBexMHDp"
    },
    {
      "cell_type": "code",
      "execution_count": 2,
      "metadata": {
        "id": "6b213876"
      },
      "outputs": [],
      "source": [
        "import pandas as pd\n",
        "import numpy as np\n",
        "import matplotlib.pyplot as plt\n",
        "import seaborn as sns\n",
        "from sklearn.preprocessing import StandardScaler\n",
        "from sklearn.model_selection import train_test_split"
      ],
      "id": "6b213876"
    },
    {
      "cell_type": "code",
      "execution_count": 3,
      "metadata": {
        "id": "6a1490e0",
        "scrolled": false
      },
      "outputs": [],
      "source": [
        "df = pd.read_csv('/content/drive/MyDrive/Resume/Fraud.csv')"
      ],
      "id": "6a1490e0"
    },
    {
      "cell_type": "code",
      "execution_count": 4,
      "metadata": {
        "colab": {
          "base_uri": "https://localhost:8080/",
          "height": 226
        },
        "id": "8753c5b2",
        "outputId": "b409e280-4ab9-4703-8844-38b4c0880266"
      },
      "outputs": [
        {
          "output_type": "execute_result",
          "data": {
            "text/plain": [
              "   step      type    amount     nameOrig  oldbalanceOrg  newbalanceOrig  \\\n",
              "0     1   PAYMENT   9839.64  C1231006815       170136.0       160296.36   \n",
              "1     1   PAYMENT   1864.28  C1666544295        21249.0        19384.72   \n",
              "2     1  TRANSFER    181.00  C1305486145          181.0            0.00   \n",
              "3     1  CASH_OUT    181.00   C840083671          181.0            0.00   \n",
              "4     1   PAYMENT  11668.14  C2048537720        41554.0        29885.86   \n",
              "\n",
              "      nameDest  oldbalanceDest  newbalanceDest  isFraud  isFlaggedFraud  \n",
              "0  M1979787155             0.0             0.0        0               0  \n",
              "1  M2044282225             0.0             0.0        0               0  \n",
              "2   C553264065             0.0             0.0        1               0  \n",
              "3    C38997010         21182.0             0.0        1               0  \n",
              "4  M1230701703             0.0             0.0        0               0  "
            ],
            "text/html": [
              "\n",
              "  <div id=\"df-33e0ef12-ab41-460e-b703-5c2712204519\" class=\"colab-df-container\">\n",
              "    <div>\n",
              "<style scoped>\n",
              "    .dataframe tbody tr th:only-of-type {\n",
              "        vertical-align: middle;\n",
              "    }\n",
              "\n",
              "    .dataframe tbody tr th {\n",
              "        vertical-align: top;\n",
              "    }\n",
              "\n",
              "    .dataframe thead th {\n",
              "        text-align: right;\n",
              "    }\n",
              "</style>\n",
              "<table border=\"1\" class=\"dataframe\">\n",
              "  <thead>\n",
              "    <tr style=\"text-align: right;\">\n",
              "      <th></th>\n",
              "      <th>step</th>\n",
              "      <th>type</th>\n",
              "      <th>amount</th>\n",
              "      <th>nameOrig</th>\n",
              "      <th>oldbalanceOrg</th>\n",
              "      <th>newbalanceOrig</th>\n",
              "      <th>nameDest</th>\n",
              "      <th>oldbalanceDest</th>\n",
              "      <th>newbalanceDest</th>\n",
              "      <th>isFraud</th>\n",
              "      <th>isFlaggedFraud</th>\n",
              "    </tr>\n",
              "  </thead>\n",
              "  <tbody>\n",
              "    <tr>\n",
              "      <th>0</th>\n",
              "      <td>1</td>\n",
              "      <td>PAYMENT</td>\n",
              "      <td>9839.64</td>\n",
              "      <td>C1231006815</td>\n",
              "      <td>170136.0</td>\n",
              "      <td>160296.36</td>\n",
              "      <td>M1979787155</td>\n",
              "      <td>0.0</td>\n",
              "      <td>0.0</td>\n",
              "      <td>0</td>\n",
              "      <td>0</td>\n",
              "    </tr>\n",
              "    <tr>\n",
              "      <th>1</th>\n",
              "      <td>1</td>\n",
              "      <td>PAYMENT</td>\n",
              "      <td>1864.28</td>\n",
              "      <td>C1666544295</td>\n",
              "      <td>21249.0</td>\n",
              "      <td>19384.72</td>\n",
              "      <td>M2044282225</td>\n",
              "      <td>0.0</td>\n",
              "      <td>0.0</td>\n",
              "      <td>0</td>\n",
              "      <td>0</td>\n",
              "    </tr>\n",
              "    <tr>\n",
              "      <th>2</th>\n",
              "      <td>1</td>\n",
              "      <td>TRANSFER</td>\n",
              "      <td>181.00</td>\n",
              "      <td>C1305486145</td>\n",
              "      <td>181.0</td>\n",
              "      <td>0.00</td>\n",
              "      <td>C553264065</td>\n",
              "      <td>0.0</td>\n",
              "      <td>0.0</td>\n",
              "      <td>1</td>\n",
              "      <td>0</td>\n",
              "    </tr>\n",
              "    <tr>\n",
              "      <th>3</th>\n",
              "      <td>1</td>\n",
              "      <td>CASH_OUT</td>\n",
              "      <td>181.00</td>\n",
              "      <td>C840083671</td>\n",
              "      <td>181.0</td>\n",
              "      <td>0.00</td>\n",
              "      <td>C38997010</td>\n",
              "      <td>21182.0</td>\n",
              "      <td>0.0</td>\n",
              "      <td>1</td>\n",
              "      <td>0</td>\n",
              "    </tr>\n",
              "    <tr>\n",
              "      <th>4</th>\n",
              "      <td>1</td>\n",
              "      <td>PAYMENT</td>\n",
              "      <td>11668.14</td>\n",
              "      <td>C2048537720</td>\n",
              "      <td>41554.0</td>\n",
              "      <td>29885.86</td>\n",
              "      <td>M1230701703</td>\n",
              "      <td>0.0</td>\n",
              "      <td>0.0</td>\n",
              "      <td>0</td>\n",
              "      <td>0</td>\n",
              "    </tr>\n",
              "  </tbody>\n",
              "</table>\n",
              "</div>\n",
              "    <div class=\"colab-df-buttons\">\n",
              "\n",
              "  <div class=\"colab-df-container\">\n",
              "    <button class=\"colab-df-convert\" onclick=\"convertToInteractive('df-33e0ef12-ab41-460e-b703-5c2712204519')\"\n",
              "            title=\"Convert this dataframe to an interactive table.\"\n",
              "            style=\"display:none;\">\n",
              "\n",
              "  <svg xmlns=\"http://www.w3.org/2000/svg\" height=\"24px\" viewBox=\"0 -960 960 960\">\n",
              "    <path d=\"M120-120v-720h720v720H120Zm60-500h600v-160H180v160Zm220 220h160v-160H400v160Zm0 220h160v-160H400v160ZM180-400h160v-160H180v160Zm440 0h160v-160H620v160ZM180-180h160v-160H180v160Zm440 0h160v-160H620v160Z\"/>\n",
              "  </svg>\n",
              "    </button>\n",
              "\n",
              "  <style>\n",
              "    .colab-df-container {\n",
              "      display:flex;\n",
              "      gap: 12px;\n",
              "    }\n",
              "\n",
              "    .colab-df-convert {\n",
              "      background-color: #E8F0FE;\n",
              "      border: none;\n",
              "      border-radius: 50%;\n",
              "      cursor: pointer;\n",
              "      display: none;\n",
              "      fill: #1967D2;\n",
              "      height: 32px;\n",
              "      padding: 0 0 0 0;\n",
              "      width: 32px;\n",
              "    }\n",
              "\n",
              "    .colab-df-convert:hover {\n",
              "      background-color: #E2EBFA;\n",
              "      box-shadow: 0px 1px 2px rgba(60, 64, 67, 0.3), 0px 1px 3px 1px rgba(60, 64, 67, 0.15);\n",
              "      fill: #174EA6;\n",
              "    }\n",
              "\n",
              "    .colab-df-buttons div {\n",
              "      margin-bottom: 4px;\n",
              "    }\n",
              "\n",
              "    [theme=dark] .colab-df-convert {\n",
              "      background-color: #3B4455;\n",
              "      fill: #D2E3FC;\n",
              "    }\n",
              "\n",
              "    [theme=dark] .colab-df-convert:hover {\n",
              "      background-color: #434B5C;\n",
              "      box-shadow: 0px 1px 3px 1px rgba(0, 0, 0, 0.15);\n",
              "      filter: drop-shadow(0px 1px 2px rgba(0, 0, 0, 0.3));\n",
              "      fill: #FFFFFF;\n",
              "    }\n",
              "  </style>\n",
              "\n",
              "    <script>\n",
              "      const buttonEl =\n",
              "        document.querySelector('#df-33e0ef12-ab41-460e-b703-5c2712204519 button.colab-df-convert');\n",
              "      buttonEl.style.display =\n",
              "        google.colab.kernel.accessAllowed ? 'block' : 'none';\n",
              "\n",
              "      async function convertToInteractive(key) {\n",
              "        const element = document.querySelector('#df-33e0ef12-ab41-460e-b703-5c2712204519');\n",
              "        const dataTable =\n",
              "          await google.colab.kernel.invokeFunction('convertToInteractive',\n",
              "                                                    [key], {});\n",
              "        if (!dataTable) return;\n",
              "\n",
              "        const docLinkHtml = 'Like what you see? Visit the ' +\n",
              "          '<a target=\"_blank\" href=https://colab.research.google.com/notebooks/data_table.ipynb>data table notebook</a>'\n",
              "          + ' to learn more about interactive tables.';\n",
              "        element.innerHTML = '';\n",
              "        dataTable['output_type'] = 'display_data';\n",
              "        await google.colab.output.renderOutput(dataTable, element);\n",
              "        const docLink = document.createElement('div');\n",
              "        docLink.innerHTML = docLinkHtml;\n",
              "        element.appendChild(docLink);\n",
              "      }\n",
              "    </script>\n",
              "  </div>\n",
              "\n",
              "\n",
              "<div id=\"df-b1cf2167-56ca-4ffa-80e3-729e278c2245\">\n",
              "  <button class=\"colab-df-quickchart\" onclick=\"quickchart('df-b1cf2167-56ca-4ffa-80e3-729e278c2245')\"\n",
              "            title=\"Suggest charts.\"\n",
              "            style=\"display:none;\">\n",
              "\n",
              "<svg xmlns=\"http://www.w3.org/2000/svg\" height=\"24px\"viewBox=\"0 0 24 24\"\n",
              "     width=\"24px\">\n",
              "    <g>\n",
              "        <path d=\"M19 3H5c-1.1 0-2 .9-2 2v14c0 1.1.9 2 2 2h14c1.1 0 2-.9 2-2V5c0-1.1-.9-2-2-2zM9 17H7v-7h2v7zm4 0h-2V7h2v10zm4 0h-2v-4h2v4z\"/>\n",
              "    </g>\n",
              "</svg>\n",
              "  </button>\n",
              "\n",
              "<style>\n",
              "  .colab-df-quickchart {\n",
              "    background-color: #E8F0FE;\n",
              "    border: none;\n",
              "    border-radius: 50%;\n",
              "    cursor: pointer;\n",
              "    display: none;\n",
              "    fill: #1967D2;\n",
              "    height: 32px;\n",
              "    padding: 0 0 0 0;\n",
              "    width: 32px;\n",
              "  }\n",
              "\n",
              "  .colab-df-quickchart:hover {\n",
              "    background-color: #E2EBFA;\n",
              "    box-shadow: 0px 1px 2px rgba(60, 64, 67, 0.3), 0px 1px 3px 1px rgba(60, 64, 67, 0.15);\n",
              "    fill: #174EA6;\n",
              "  }\n",
              "\n",
              "  [theme=dark] .colab-df-quickchart {\n",
              "    background-color: #3B4455;\n",
              "    fill: #D2E3FC;\n",
              "  }\n",
              "\n",
              "  [theme=dark] .colab-df-quickchart:hover {\n",
              "    background-color: #434B5C;\n",
              "    box-shadow: 0px 1px 3px 1px rgba(0, 0, 0, 0.15);\n",
              "    filter: drop-shadow(0px 1px 2px rgba(0, 0, 0, 0.3));\n",
              "    fill: #FFFFFF;\n",
              "  }\n",
              "</style>\n",
              "\n",
              "  <script>\n",
              "    async function quickchart(key) {\n",
              "      const charts = await google.colab.kernel.invokeFunction(\n",
              "          'suggestCharts', [key], {});\n",
              "    }\n",
              "    (() => {\n",
              "      let quickchartButtonEl =\n",
              "        document.querySelector('#df-b1cf2167-56ca-4ffa-80e3-729e278c2245 button');\n",
              "      quickchartButtonEl.style.display =\n",
              "        google.colab.kernel.accessAllowed ? 'block' : 'none';\n",
              "    })();\n",
              "  </script>\n",
              "</div>\n",
              "    </div>\n",
              "  </div>\n"
            ]
          },
          "metadata": {},
          "execution_count": 4
        }
      ],
      "source": [
        "df.head()"
      ],
      "id": "8753c5b2"
    },
    {
      "cell_type": "code",
      "execution_count": 5,
      "metadata": {
        "colab": {
          "base_uri": "https://localhost:8080/"
        },
        "id": "67c06be9",
        "outputId": "cede7869-a898-4916-e017-8d41a8291ba5"
      },
      "outputs": [
        {
          "output_type": "execute_result",
          "data": {
            "text/plain": [
              "(6362620, 11)"
            ]
          },
          "metadata": {},
          "execution_count": 5
        }
      ],
      "source": [
        "df.shape"
      ],
      "id": "67c06be9"
    },
    {
      "cell_type": "code",
      "execution_count": 6,
      "metadata": {
        "colab": {
          "base_uri": "https://localhost:8080/"
        },
        "id": "fe7ba79d",
        "outputId": "861c450b-3545-4cf9-f9b4-8ab2de8cdc47"
      },
      "outputs": [
        {
          "output_type": "stream",
          "name": "stdout",
          "text": [
            "<class 'pandas.core.frame.DataFrame'>\n",
            "RangeIndex: 6362620 entries, 0 to 6362619\n",
            "Data columns (total 11 columns):\n",
            " #   Column          Dtype  \n",
            "---  ------          -----  \n",
            " 0   step            int64  \n",
            " 1   type            object \n",
            " 2   amount          float64\n",
            " 3   nameOrig        object \n",
            " 4   oldbalanceOrg   float64\n",
            " 5   newbalanceOrig  float64\n",
            " 6   nameDest        object \n",
            " 7   oldbalanceDest  float64\n",
            " 8   newbalanceDest  float64\n",
            " 9   isFraud         int64  \n",
            " 10  isFlaggedFraud  int64  \n",
            "dtypes: float64(5), int64(3), object(3)\n",
            "memory usage: 534.0+ MB\n"
          ]
        }
      ],
      "source": [
        "df.info()"
      ],
      "id": "fe7ba79d"
    },
    {
      "cell_type": "code",
      "execution_count": 6,
      "metadata": {
        "id": "47883224"
      },
      "outputs": [],
      "source": [],
      "id": "47883224"
    },
    {
      "cell_type": "code",
      "execution_count": 7,
      "metadata": {
        "colab": {
          "base_uri": "https://localhost:8080/",
          "height": 300
        },
        "id": "73a7046d",
        "outputId": "514aad1a-db02-4fb7-fcee-1eac7b21e860"
      },
      "outputs": [
        {
          "output_type": "execute_result",
          "data": {
            "text/plain": [
              "               step        amount  oldbalanceOrg  newbalanceOrig  \\\n",
              "count  6.362620e+06  6.362620e+06   6.362620e+06    6.362620e+06   \n",
              "mean   2.433972e+02  1.798619e+05   8.338831e+05    8.551137e+05   \n",
              "std    1.423320e+02  6.038582e+05   2.888243e+06    2.924049e+06   \n",
              "min    1.000000e+00  0.000000e+00   0.000000e+00    0.000000e+00   \n",
              "25%    1.560000e+02  1.338957e+04   0.000000e+00    0.000000e+00   \n",
              "50%    2.390000e+02  7.487194e+04   1.420800e+04    0.000000e+00   \n",
              "75%    3.350000e+02  2.087215e+05   1.073152e+05    1.442584e+05   \n",
              "max    7.430000e+02  9.244552e+07   5.958504e+07    4.958504e+07   \n",
              "\n",
              "       oldbalanceDest  newbalanceDest       isFraud  isFlaggedFraud  \n",
              "count    6.362620e+06    6.362620e+06  6.362620e+06    6.362620e+06  \n",
              "mean     1.100702e+06    1.224996e+06  1.290820e-03    2.514687e-06  \n",
              "std      3.399180e+06    3.674129e+06  3.590480e-02    1.585775e-03  \n",
              "min      0.000000e+00    0.000000e+00  0.000000e+00    0.000000e+00  \n",
              "25%      0.000000e+00    0.000000e+00  0.000000e+00    0.000000e+00  \n",
              "50%      1.327057e+05    2.146614e+05  0.000000e+00    0.000000e+00  \n",
              "75%      9.430367e+05    1.111909e+06  0.000000e+00    0.000000e+00  \n",
              "max      3.560159e+08    3.561793e+08  1.000000e+00    1.000000e+00  "
            ],
            "text/html": [
              "\n",
              "  <div id=\"df-f9e7dc6e-9781-44b6-b999-b7adedee6ebf\" class=\"colab-df-container\">\n",
              "    <div>\n",
              "<style scoped>\n",
              "    .dataframe tbody tr th:only-of-type {\n",
              "        vertical-align: middle;\n",
              "    }\n",
              "\n",
              "    .dataframe tbody tr th {\n",
              "        vertical-align: top;\n",
              "    }\n",
              "\n",
              "    .dataframe thead th {\n",
              "        text-align: right;\n",
              "    }\n",
              "</style>\n",
              "<table border=\"1\" class=\"dataframe\">\n",
              "  <thead>\n",
              "    <tr style=\"text-align: right;\">\n",
              "      <th></th>\n",
              "      <th>step</th>\n",
              "      <th>amount</th>\n",
              "      <th>oldbalanceOrg</th>\n",
              "      <th>newbalanceOrig</th>\n",
              "      <th>oldbalanceDest</th>\n",
              "      <th>newbalanceDest</th>\n",
              "      <th>isFraud</th>\n",
              "      <th>isFlaggedFraud</th>\n",
              "    </tr>\n",
              "  </thead>\n",
              "  <tbody>\n",
              "    <tr>\n",
              "      <th>count</th>\n",
              "      <td>6.362620e+06</td>\n",
              "      <td>6.362620e+06</td>\n",
              "      <td>6.362620e+06</td>\n",
              "      <td>6.362620e+06</td>\n",
              "      <td>6.362620e+06</td>\n",
              "      <td>6.362620e+06</td>\n",
              "      <td>6.362620e+06</td>\n",
              "      <td>6.362620e+06</td>\n",
              "    </tr>\n",
              "    <tr>\n",
              "      <th>mean</th>\n",
              "      <td>2.433972e+02</td>\n",
              "      <td>1.798619e+05</td>\n",
              "      <td>8.338831e+05</td>\n",
              "      <td>8.551137e+05</td>\n",
              "      <td>1.100702e+06</td>\n",
              "      <td>1.224996e+06</td>\n",
              "      <td>1.290820e-03</td>\n",
              "      <td>2.514687e-06</td>\n",
              "    </tr>\n",
              "    <tr>\n",
              "      <th>std</th>\n",
              "      <td>1.423320e+02</td>\n",
              "      <td>6.038582e+05</td>\n",
              "      <td>2.888243e+06</td>\n",
              "      <td>2.924049e+06</td>\n",
              "      <td>3.399180e+06</td>\n",
              "      <td>3.674129e+06</td>\n",
              "      <td>3.590480e-02</td>\n",
              "      <td>1.585775e-03</td>\n",
              "    </tr>\n",
              "    <tr>\n",
              "      <th>min</th>\n",
              "      <td>1.000000e+00</td>\n",
              "      <td>0.000000e+00</td>\n",
              "      <td>0.000000e+00</td>\n",
              "      <td>0.000000e+00</td>\n",
              "      <td>0.000000e+00</td>\n",
              "      <td>0.000000e+00</td>\n",
              "      <td>0.000000e+00</td>\n",
              "      <td>0.000000e+00</td>\n",
              "    </tr>\n",
              "    <tr>\n",
              "      <th>25%</th>\n",
              "      <td>1.560000e+02</td>\n",
              "      <td>1.338957e+04</td>\n",
              "      <td>0.000000e+00</td>\n",
              "      <td>0.000000e+00</td>\n",
              "      <td>0.000000e+00</td>\n",
              "      <td>0.000000e+00</td>\n",
              "      <td>0.000000e+00</td>\n",
              "      <td>0.000000e+00</td>\n",
              "    </tr>\n",
              "    <tr>\n",
              "      <th>50%</th>\n",
              "      <td>2.390000e+02</td>\n",
              "      <td>7.487194e+04</td>\n",
              "      <td>1.420800e+04</td>\n",
              "      <td>0.000000e+00</td>\n",
              "      <td>1.327057e+05</td>\n",
              "      <td>2.146614e+05</td>\n",
              "      <td>0.000000e+00</td>\n",
              "      <td>0.000000e+00</td>\n",
              "    </tr>\n",
              "    <tr>\n",
              "      <th>75%</th>\n",
              "      <td>3.350000e+02</td>\n",
              "      <td>2.087215e+05</td>\n",
              "      <td>1.073152e+05</td>\n",
              "      <td>1.442584e+05</td>\n",
              "      <td>9.430367e+05</td>\n",
              "      <td>1.111909e+06</td>\n",
              "      <td>0.000000e+00</td>\n",
              "      <td>0.000000e+00</td>\n",
              "    </tr>\n",
              "    <tr>\n",
              "      <th>max</th>\n",
              "      <td>7.430000e+02</td>\n",
              "      <td>9.244552e+07</td>\n",
              "      <td>5.958504e+07</td>\n",
              "      <td>4.958504e+07</td>\n",
              "      <td>3.560159e+08</td>\n",
              "      <td>3.561793e+08</td>\n",
              "      <td>1.000000e+00</td>\n",
              "      <td>1.000000e+00</td>\n",
              "    </tr>\n",
              "  </tbody>\n",
              "</table>\n",
              "</div>\n",
              "    <div class=\"colab-df-buttons\">\n",
              "\n",
              "  <div class=\"colab-df-container\">\n",
              "    <button class=\"colab-df-convert\" onclick=\"convertToInteractive('df-f9e7dc6e-9781-44b6-b999-b7adedee6ebf')\"\n",
              "            title=\"Convert this dataframe to an interactive table.\"\n",
              "            style=\"display:none;\">\n",
              "\n",
              "  <svg xmlns=\"http://www.w3.org/2000/svg\" height=\"24px\" viewBox=\"0 -960 960 960\">\n",
              "    <path d=\"M120-120v-720h720v720H120Zm60-500h600v-160H180v160Zm220 220h160v-160H400v160Zm0 220h160v-160H400v160ZM180-400h160v-160H180v160Zm440 0h160v-160H620v160ZM180-180h160v-160H180v160Zm440 0h160v-160H620v160Z\"/>\n",
              "  </svg>\n",
              "    </button>\n",
              "\n",
              "  <style>\n",
              "    .colab-df-container {\n",
              "      display:flex;\n",
              "      gap: 12px;\n",
              "    }\n",
              "\n",
              "    .colab-df-convert {\n",
              "      background-color: #E8F0FE;\n",
              "      border: none;\n",
              "      border-radius: 50%;\n",
              "      cursor: pointer;\n",
              "      display: none;\n",
              "      fill: #1967D2;\n",
              "      height: 32px;\n",
              "      padding: 0 0 0 0;\n",
              "      width: 32px;\n",
              "    }\n",
              "\n",
              "    .colab-df-convert:hover {\n",
              "      background-color: #E2EBFA;\n",
              "      box-shadow: 0px 1px 2px rgba(60, 64, 67, 0.3), 0px 1px 3px 1px rgba(60, 64, 67, 0.15);\n",
              "      fill: #174EA6;\n",
              "    }\n",
              "\n",
              "    .colab-df-buttons div {\n",
              "      margin-bottom: 4px;\n",
              "    }\n",
              "\n",
              "    [theme=dark] .colab-df-convert {\n",
              "      background-color: #3B4455;\n",
              "      fill: #D2E3FC;\n",
              "    }\n",
              "\n",
              "    [theme=dark] .colab-df-convert:hover {\n",
              "      background-color: #434B5C;\n",
              "      box-shadow: 0px 1px 3px 1px rgba(0, 0, 0, 0.15);\n",
              "      filter: drop-shadow(0px 1px 2px rgba(0, 0, 0, 0.3));\n",
              "      fill: #FFFFFF;\n",
              "    }\n",
              "  </style>\n",
              "\n",
              "    <script>\n",
              "      const buttonEl =\n",
              "        document.querySelector('#df-f9e7dc6e-9781-44b6-b999-b7adedee6ebf button.colab-df-convert');\n",
              "      buttonEl.style.display =\n",
              "        google.colab.kernel.accessAllowed ? 'block' : 'none';\n",
              "\n",
              "      async function convertToInteractive(key) {\n",
              "        const element = document.querySelector('#df-f9e7dc6e-9781-44b6-b999-b7adedee6ebf');\n",
              "        const dataTable =\n",
              "          await google.colab.kernel.invokeFunction('convertToInteractive',\n",
              "                                                    [key], {});\n",
              "        if (!dataTable) return;\n",
              "\n",
              "        const docLinkHtml = 'Like what you see? Visit the ' +\n",
              "          '<a target=\"_blank\" href=https://colab.research.google.com/notebooks/data_table.ipynb>data table notebook</a>'\n",
              "          + ' to learn more about interactive tables.';\n",
              "        element.innerHTML = '';\n",
              "        dataTable['output_type'] = 'display_data';\n",
              "        await google.colab.output.renderOutput(dataTable, element);\n",
              "        const docLink = document.createElement('div');\n",
              "        docLink.innerHTML = docLinkHtml;\n",
              "        element.appendChild(docLink);\n",
              "      }\n",
              "    </script>\n",
              "  </div>\n",
              "\n",
              "\n",
              "<div id=\"df-42f10440-9245-4bf4-9f0c-9bd07b3423e9\">\n",
              "  <button class=\"colab-df-quickchart\" onclick=\"quickchart('df-42f10440-9245-4bf4-9f0c-9bd07b3423e9')\"\n",
              "            title=\"Suggest charts.\"\n",
              "            style=\"display:none;\">\n",
              "\n",
              "<svg xmlns=\"http://www.w3.org/2000/svg\" height=\"24px\"viewBox=\"0 0 24 24\"\n",
              "     width=\"24px\">\n",
              "    <g>\n",
              "        <path d=\"M19 3H5c-1.1 0-2 .9-2 2v14c0 1.1.9 2 2 2h14c1.1 0 2-.9 2-2V5c0-1.1-.9-2-2-2zM9 17H7v-7h2v7zm4 0h-2V7h2v10zm4 0h-2v-4h2v4z\"/>\n",
              "    </g>\n",
              "</svg>\n",
              "  </button>\n",
              "\n",
              "<style>\n",
              "  .colab-df-quickchart {\n",
              "    background-color: #E8F0FE;\n",
              "    border: none;\n",
              "    border-radius: 50%;\n",
              "    cursor: pointer;\n",
              "    display: none;\n",
              "    fill: #1967D2;\n",
              "    height: 32px;\n",
              "    padding: 0 0 0 0;\n",
              "    width: 32px;\n",
              "  }\n",
              "\n",
              "  .colab-df-quickchart:hover {\n",
              "    background-color: #E2EBFA;\n",
              "    box-shadow: 0px 1px 2px rgba(60, 64, 67, 0.3), 0px 1px 3px 1px rgba(60, 64, 67, 0.15);\n",
              "    fill: #174EA6;\n",
              "  }\n",
              "\n",
              "  [theme=dark] .colab-df-quickchart {\n",
              "    background-color: #3B4455;\n",
              "    fill: #D2E3FC;\n",
              "  }\n",
              "\n",
              "  [theme=dark] .colab-df-quickchart:hover {\n",
              "    background-color: #434B5C;\n",
              "    box-shadow: 0px 1px 3px 1px rgba(0, 0, 0, 0.15);\n",
              "    filter: drop-shadow(0px 1px 2px rgba(0, 0, 0, 0.3));\n",
              "    fill: #FFFFFF;\n",
              "  }\n",
              "</style>\n",
              "\n",
              "  <script>\n",
              "    async function quickchart(key) {\n",
              "      const charts = await google.colab.kernel.invokeFunction(\n",
              "          'suggestCharts', [key], {});\n",
              "    }\n",
              "    (() => {\n",
              "      let quickchartButtonEl =\n",
              "        document.querySelector('#df-42f10440-9245-4bf4-9f0c-9bd07b3423e9 button');\n",
              "      quickchartButtonEl.style.display =\n",
              "        google.colab.kernel.accessAllowed ? 'block' : 'none';\n",
              "    })();\n",
              "  </script>\n",
              "</div>\n",
              "    </div>\n",
              "  </div>\n"
            ]
          },
          "metadata": {},
          "execution_count": 7
        }
      ],
      "source": [
        "df.describe()"
      ],
      "id": "73a7046d"
    },
    {
      "cell_type": "code",
      "execution_count": 8,
      "metadata": {
        "colab": {
          "base_uri": "https://localhost:8080/"
        },
        "id": "88a34da0",
        "outputId": "f98695da-8478-4777-b278-63efc563134f"
      },
      "outputs": [
        {
          "output_type": "stream",
          "name": "stdout",
          "text": [
            "step              0\n",
            "type              0\n",
            "amount            0\n",
            "nameOrig          0\n",
            "oldbalanceOrg     0\n",
            "newbalanceOrig    0\n",
            "nameDest          0\n",
            "oldbalanceDest    0\n",
            "newbalanceDest    0\n",
            "isFraud           0\n",
            "isFlaggedFraud    0\n",
            "dtype: int64\n"
          ]
        }
      ],
      "source": [
        "print(df.isnull().sum())"
      ],
      "id": "88a34da0"
    },
    {
      "cell_type": "markdown",
      "metadata": {
        "id": "b757ebcb"
      },
      "source": [
        "### Feature Engineering"
      ],
      "id": "b757ebcb"
    },
    {
      "cell_type": "code",
      "execution_count": 9,
      "metadata": {
        "colab": {
          "base_uri": "https://localhost:8080/"
        },
        "id": "425a9f8a",
        "outputId": "22af5ecf-d99c-40c9-a1ce-3df3f09793f0"
      },
      "outputs": [
        {
          "output_type": "stream",
          "name": "stdout",
          "text": [
            "['type', 'nameOrig', 'nameDest']\n"
          ]
        }
      ],
      "source": [
        "col_list = []\n",
        "\n",
        "for col in df.columns:\n",
        "    if(df[col].dtype == \"object\"):\n",
        "        col_list.append(col)\n",
        "print(col_list)"
      ],
      "id": "425a9f8a"
    },
    {
      "cell_type": "code",
      "execution_count": 10,
      "metadata": {
        "id": "c64d7dcf"
      },
      "outputs": [],
      "source": [
        "from sklearn.preprocessing import LabelEncoder"
      ],
      "id": "c64d7dcf"
    },
    {
      "cell_type": "code",
      "execution_count": 11,
      "metadata": {
        "id": "2719cffa"
      },
      "outputs": [],
      "source": [
        "label_encoder = LabelEncoder()"
      ],
      "id": "2719cffa"
    },
    {
      "cell_type": "code",
      "execution_count": 12,
      "metadata": {
        "id": "34f328f9"
      },
      "outputs": [],
      "source": [
        "for i in col_list:\n",
        "    df[i] = label_encoder.fit_transform(df[i])"
      ],
      "id": "34f328f9"
    },
    {
      "cell_type": "code",
      "execution_count": 13,
      "metadata": {
        "colab": {
          "base_uri": "https://localhost:8080/",
          "height": 206
        },
        "id": "e896dabc",
        "outputId": "b18f2b70-b5ff-49d7-e865-1de57fa3bfae"
      },
      "outputs": [
        {
          "output_type": "execute_result",
          "data": {
            "text/plain": [
              "   step  type    amount  nameOrig  oldbalanceOrg  newbalanceOrig  nameDest  \\\n",
              "0     1     3   9839.64    757869       170136.0       160296.36   1662094   \n",
              "1     1     3   1864.28   2188998        21249.0        19384.72   1733924   \n",
              "2     1     4    181.00   1002156          181.0            0.00    439685   \n",
              "3     1     1    181.00   5828262          181.0            0.00    391696   \n",
              "4     1     3  11668.14   3445981        41554.0        29885.86    828919   \n",
              "\n",
              "   oldbalanceDest  newbalanceDest  isFraud  isFlaggedFraud  \n",
              "0             0.0             0.0        0               0  \n",
              "1             0.0             0.0        0               0  \n",
              "2             0.0             0.0        1               0  \n",
              "3         21182.0             0.0        1               0  \n",
              "4             0.0             0.0        0               0  "
            ],
            "text/html": [
              "\n",
              "  <div id=\"df-ffb4b5f0-9789-413b-85d8-9c7433bd6a78\" class=\"colab-df-container\">\n",
              "    <div>\n",
              "<style scoped>\n",
              "    .dataframe tbody tr th:only-of-type {\n",
              "        vertical-align: middle;\n",
              "    }\n",
              "\n",
              "    .dataframe tbody tr th {\n",
              "        vertical-align: top;\n",
              "    }\n",
              "\n",
              "    .dataframe thead th {\n",
              "        text-align: right;\n",
              "    }\n",
              "</style>\n",
              "<table border=\"1\" class=\"dataframe\">\n",
              "  <thead>\n",
              "    <tr style=\"text-align: right;\">\n",
              "      <th></th>\n",
              "      <th>step</th>\n",
              "      <th>type</th>\n",
              "      <th>amount</th>\n",
              "      <th>nameOrig</th>\n",
              "      <th>oldbalanceOrg</th>\n",
              "      <th>newbalanceOrig</th>\n",
              "      <th>nameDest</th>\n",
              "      <th>oldbalanceDest</th>\n",
              "      <th>newbalanceDest</th>\n",
              "      <th>isFraud</th>\n",
              "      <th>isFlaggedFraud</th>\n",
              "    </tr>\n",
              "  </thead>\n",
              "  <tbody>\n",
              "    <tr>\n",
              "      <th>0</th>\n",
              "      <td>1</td>\n",
              "      <td>3</td>\n",
              "      <td>9839.64</td>\n",
              "      <td>757869</td>\n",
              "      <td>170136.0</td>\n",
              "      <td>160296.36</td>\n",
              "      <td>1662094</td>\n",
              "      <td>0.0</td>\n",
              "      <td>0.0</td>\n",
              "      <td>0</td>\n",
              "      <td>0</td>\n",
              "    </tr>\n",
              "    <tr>\n",
              "      <th>1</th>\n",
              "      <td>1</td>\n",
              "      <td>3</td>\n",
              "      <td>1864.28</td>\n",
              "      <td>2188998</td>\n",
              "      <td>21249.0</td>\n",
              "      <td>19384.72</td>\n",
              "      <td>1733924</td>\n",
              "      <td>0.0</td>\n",
              "      <td>0.0</td>\n",
              "      <td>0</td>\n",
              "      <td>0</td>\n",
              "    </tr>\n",
              "    <tr>\n",
              "      <th>2</th>\n",
              "      <td>1</td>\n",
              "      <td>4</td>\n",
              "      <td>181.00</td>\n",
              "      <td>1002156</td>\n",
              "      <td>181.0</td>\n",
              "      <td>0.00</td>\n",
              "      <td>439685</td>\n",
              "      <td>0.0</td>\n",
              "      <td>0.0</td>\n",
              "      <td>1</td>\n",
              "      <td>0</td>\n",
              "    </tr>\n",
              "    <tr>\n",
              "      <th>3</th>\n",
              "      <td>1</td>\n",
              "      <td>1</td>\n",
              "      <td>181.00</td>\n",
              "      <td>5828262</td>\n",
              "      <td>181.0</td>\n",
              "      <td>0.00</td>\n",
              "      <td>391696</td>\n",
              "      <td>21182.0</td>\n",
              "      <td>0.0</td>\n",
              "      <td>1</td>\n",
              "      <td>0</td>\n",
              "    </tr>\n",
              "    <tr>\n",
              "      <th>4</th>\n",
              "      <td>1</td>\n",
              "      <td>3</td>\n",
              "      <td>11668.14</td>\n",
              "      <td>3445981</td>\n",
              "      <td>41554.0</td>\n",
              "      <td>29885.86</td>\n",
              "      <td>828919</td>\n",
              "      <td>0.0</td>\n",
              "      <td>0.0</td>\n",
              "      <td>0</td>\n",
              "      <td>0</td>\n",
              "    </tr>\n",
              "  </tbody>\n",
              "</table>\n",
              "</div>\n",
              "    <div class=\"colab-df-buttons\">\n",
              "\n",
              "  <div class=\"colab-df-container\">\n",
              "    <button class=\"colab-df-convert\" onclick=\"convertToInteractive('df-ffb4b5f0-9789-413b-85d8-9c7433bd6a78')\"\n",
              "            title=\"Convert this dataframe to an interactive table.\"\n",
              "            style=\"display:none;\">\n",
              "\n",
              "  <svg xmlns=\"http://www.w3.org/2000/svg\" height=\"24px\" viewBox=\"0 -960 960 960\">\n",
              "    <path d=\"M120-120v-720h720v720H120Zm60-500h600v-160H180v160Zm220 220h160v-160H400v160Zm0 220h160v-160H400v160ZM180-400h160v-160H180v160Zm440 0h160v-160H620v160ZM180-180h160v-160H180v160Zm440 0h160v-160H620v160Z\"/>\n",
              "  </svg>\n",
              "    </button>\n",
              "\n",
              "  <style>\n",
              "    .colab-df-container {\n",
              "      display:flex;\n",
              "      gap: 12px;\n",
              "    }\n",
              "\n",
              "    .colab-df-convert {\n",
              "      background-color: #E8F0FE;\n",
              "      border: none;\n",
              "      border-radius: 50%;\n",
              "      cursor: pointer;\n",
              "      display: none;\n",
              "      fill: #1967D2;\n",
              "      height: 32px;\n",
              "      padding: 0 0 0 0;\n",
              "      width: 32px;\n",
              "    }\n",
              "\n",
              "    .colab-df-convert:hover {\n",
              "      background-color: #E2EBFA;\n",
              "      box-shadow: 0px 1px 2px rgba(60, 64, 67, 0.3), 0px 1px 3px 1px rgba(60, 64, 67, 0.15);\n",
              "      fill: #174EA6;\n",
              "    }\n",
              "\n",
              "    .colab-df-buttons div {\n",
              "      margin-bottom: 4px;\n",
              "    }\n",
              "\n",
              "    [theme=dark] .colab-df-convert {\n",
              "      background-color: #3B4455;\n",
              "      fill: #D2E3FC;\n",
              "    }\n",
              "\n",
              "    [theme=dark] .colab-df-convert:hover {\n",
              "      background-color: #434B5C;\n",
              "      box-shadow: 0px 1px 3px 1px rgba(0, 0, 0, 0.15);\n",
              "      filter: drop-shadow(0px 1px 2px rgba(0, 0, 0, 0.3));\n",
              "      fill: #FFFFFF;\n",
              "    }\n",
              "  </style>\n",
              "\n",
              "    <script>\n",
              "      const buttonEl =\n",
              "        document.querySelector('#df-ffb4b5f0-9789-413b-85d8-9c7433bd6a78 button.colab-df-convert');\n",
              "      buttonEl.style.display =\n",
              "        google.colab.kernel.accessAllowed ? 'block' : 'none';\n",
              "\n",
              "      async function convertToInteractive(key) {\n",
              "        const element = document.querySelector('#df-ffb4b5f0-9789-413b-85d8-9c7433bd6a78');\n",
              "        const dataTable =\n",
              "          await google.colab.kernel.invokeFunction('convertToInteractive',\n",
              "                                                    [key], {});\n",
              "        if (!dataTable) return;\n",
              "\n",
              "        const docLinkHtml = 'Like what you see? Visit the ' +\n",
              "          '<a target=\"_blank\" href=https://colab.research.google.com/notebooks/data_table.ipynb>data table notebook</a>'\n",
              "          + ' to learn more about interactive tables.';\n",
              "        element.innerHTML = '';\n",
              "        dataTable['output_type'] = 'display_data';\n",
              "        await google.colab.output.renderOutput(dataTable, element);\n",
              "        const docLink = document.createElement('div');\n",
              "        docLink.innerHTML = docLinkHtml;\n",
              "        element.appendChild(docLink);\n",
              "      }\n",
              "    </script>\n",
              "  </div>\n",
              "\n",
              "\n",
              "<div id=\"df-e847e8c4-efc2-4ef3-974d-e234ea6c5b3e\">\n",
              "  <button class=\"colab-df-quickchart\" onclick=\"quickchart('df-e847e8c4-efc2-4ef3-974d-e234ea6c5b3e')\"\n",
              "            title=\"Suggest charts.\"\n",
              "            style=\"display:none;\">\n",
              "\n",
              "<svg xmlns=\"http://www.w3.org/2000/svg\" height=\"24px\"viewBox=\"0 0 24 24\"\n",
              "     width=\"24px\">\n",
              "    <g>\n",
              "        <path d=\"M19 3H5c-1.1 0-2 .9-2 2v14c0 1.1.9 2 2 2h14c1.1 0 2-.9 2-2V5c0-1.1-.9-2-2-2zM9 17H7v-7h2v7zm4 0h-2V7h2v10zm4 0h-2v-4h2v4z\"/>\n",
              "    </g>\n",
              "</svg>\n",
              "  </button>\n",
              "\n",
              "<style>\n",
              "  .colab-df-quickchart {\n",
              "    background-color: #E8F0FE;\n",
              "    border: none;\n",
              "    border-radius: 50%;\n",
              "    cursor: pointer;\n",
              "    display: none;\n",
              "    fill: #1967D2;\n",
              "    height: 32px;\n",
              "    padding: 0 0 0 0;\n",
              "    width: 32px;\n",
              "  }\n",
              "\n",
              "  .colab-df-quickchart:hover {\n",
              "    background-color: #E2EBFA;\n",
              "    box-shadow: 0px 1px 2px rgba(60, 64, 67, 0.3), 0px 1px 3px 1px rgba(60, 64, 67, 0.15);\n",
              "    fill: #174EA6;\n",
              "  }\n",
              "\n",
              "  [theme=dark] .colab-df-quickchart {\n",
              "    background-color: #3B4455;\n",
              "    fill: #D2E3FC;\n",
              "  }\n",
              "\n",
              "  [theme=dark] .colab-df-quickchart:hover {\n",
              "    background-color: #434B5C;\n",
              "    box-shadow: 0px 1px 3px 1px rgba(0, 0, 0, 0.15);\n",
              "    filter: drop-shadow(0px 1px 2px rgba(0, 0, 0, 0.3));\n",
              "    fill: #FFFFFF;\n",
              "  }\n",
              "</style>\n",
              "\n",
              "  <script>\n",
              "    async function quickchart(key) {\n",
              "      const charts = await google.colab.kernel.invokeFunction(\n",
              "          'suggestCharts', [key], {});\n",
              "    }\n",
              "    (() => {\n",
              "      let quickchartButtonEl =\n",
              "        document.querySelector('#df-e847e8c4-efc2-4ef3-974d-e234ea6c5b3e button');\n",
              "      quickchartButtonEl.style.display =\n",
              "        google.colab.kernel.accessAllowed ? 'block' : 'none';\n",
              "    })();\n",
              "  </script>\n",
              "</div>\n",
              "    </div>\n",
              "  </div>\n"
            ]
          },
          "metadata": {},
          "execution_count": 13
        }
      ],
      "source": [
        "df.head()"
      ],
      "id": "e896dabc"
    },
    {
      "cell_type": "code",
      "execution_count": 14,
      "metadata": {
        "colab": {
          "base_uri": "https://localhost:8080/"
        },
        "id": "d32362cb",
        "outputId": "a2b12ce0-dc07-4ef1-8626-0f87ea689fce"
      },
      "outputs": [
        {
          "output_type": "stream",
          "name": "stdout",
          "text": [
            "<class 'pandas.core.frame.DataFrame'>\n",
            "RangeIndex: 6362620 entries, 0 to 6362619\n",
            "Data columns (total 11 columns):\n",
            " #   Column          Dtype  \n",
            "---  ------          -----  \n",
            " 0   step            int64  \n",
            " 1   type            int64  \n",
            " 2   amount          float64\n",
            " 3   nameOrig        int64  \n",
            " 4   oldbalanceOrg   float64\n",
            " 5   newbalanceOrig  float64\n",
            " 6   nameDest        int64  \n",
            " 7   oldbalanceDest  float64\n",
            " 8   newbalanceDest  float64\n",
            " 9   isFraud         int64  \n",
            " 10  isFlaggedFraud  int64  \n",
            "dtypes: float64(5), int64(6)\n",
            "memory usage: 534.0 MB\n"
          ]
        }
      ],
      "source": [
        "df.info()"
      ],
      "id": "d32362cb"
    },
    {
      "cell_type": "code",
      "execution_count": 15,
      "metadata": {
        "id": "42558b5d"
      },
      "outputs": [],
      "source": [
        "from sklearn.impute import SimpleImputer"
      ],
      "id": "42558b5d"
    },
    {
      "cell_type": "code",
      "execution_count": 16,
      "metadata": {
        "id": "d0bc738f"
      },
      "outputs": [],
      "source": [
        "imputer = SimpleImputer(strategy='median')\n",
        "imputer.fit(df[['amount','oldbalanceOrg','newbalanceOrig','oldbalanceDest','newbalanceDest']])\n",
        "df[['amount','oldbalanceOrg','newbalanceOrig','oldbalanceDest','newbalanceDest']] = imputer.transform(df[['amount','oldbalanceOrg','newbalanceOrig','oldbalanceDest','newbalanceDest']])"
      ],
      "id": "d0bc738f"
    },
    {
      "cell_type": "code",
      "execution_count": 16,
      "metadata": {
        "id": "34d1d34e"
      },
      "outputs": [],
      "source": [],
      "id": "34d1d34e"
    },
    {
      "cell_type": "code",
      "execution_count": 17,
      "metadata": {
        "id": "d6ccbfb7"
      },
      "outputs": [],
      "source": [
        "df['nameOrig'] = df['nameOrig'].fillna('Missing')\n",
        "df['nameDest'] = df['nameDest'].fillna('Missing')"
      ],
      "id": "d6ccbfb7"
    },
    {
      "cell_type": "code",
      "execution_count": 18,
      "metadata": {
        "colab": {
          "base_uri": "https://localhost:8080/"
        },
        "id": "8a1c7dc4",
        "outputId": "aeb8f3d5-8c6e-4cd5-a2f7-ebf4e64e83c8"
      },
      "outputs": [
        {
          "output_type": "stream",
          "name": "stdout",
          "text": [
            "          step  type      amount  nameOrig  oldbalanceOrg  newbalanceOrig  \\\n",
            "0          NaN   NaN         NaN       NaN            NaN             NaN   \n",
            "1          NaN   NaN         NaN       NaN            NaN             NaN   \n",
            "2          NaN   NaN         NaN       NaN            NaN             NaN   \n",
            "3          NaN   NaN         NaN       NaN            NaN             NaN   \n",
            "4          NaN   NaN         NaN       NaN            NaN             NaN   \n",
            "...        ...   ...         ...       ...            ...             ...   \n",
            "6362615  743.0   NaN         NaN       NaN            NaN             NaN   \n",
            "6362616  743.0   NaN  6311409.28       NaN            NaN             NaN   \n",
            "6362617  743.0   NaN  6311409.28       NaN            NaN             NaN   \n",
            "6362618  743.0   NaN         NaN       NaN            NaN             NaN   \n",
            "6362619  743.0   NaN         NaN       NaN            NaN             NaN   \n",
            "\n",
            "         nameDest  oldbalanceDest  newbalanceDest  isFraud  isFlaggedFraud  \n",
            "0             NaN             NaN             NaN      NaN             NaN  \n",
            "1             NaN             NaN             NaN      NaN             NaN  \n",
            "2             NaN             NaN             NaN      1.0             NaN  \n",
            "3             NaN             NaN             NaN      1.0             NaN  \n",
            "4             NaN             NaN             NaN      NaN             NaN  \n",
            "...           ...             ...             ...      ...             ...  \n",
            "6362615       NaN             NaN             NaN      1.0             NaN  \n",
            "6362616       NaN             NaN             NaN      1.0             NaN  \n",
            "6362617       NaN             NaN             NaN      1.0             NaN  \n",
            "6362618       NaN             NaN             NaN      1.0             NaN  \n",
            "6362619       NaN             NaN             NaN      1.0             NaN  \n",
            "\n",
            "[6362620 rows x 11 columns]\n"
          ]
        }
      ],
      "source": [
        "from scipy import stats\n",
        "z = np.abs(stats.zscore(df))\n",
        "\n",
        "print(df[z > 3])"
      ],
      "id": "8a1c7dc4"
    },
    {
      "cell_type": "code",
      "execution_count": 19,
      "metadata": {
        "id": "2820cdf0"
      },
      "outputs": [],
      "source": [
        "from sklearn.preprocessing import RobustScaler\n",
        "rob_scaler = RobustScaler()\n",
        "df[['amount','oldbalanceOrg','newbalanceOrig','oldbalanceDest','newbalanceDest']] = rob_scaler.fit_transform(df[['amount','oldbalanceOrg','newbalanceOrig','oldbalanceDest','newbalanceDest']])"
      ],
      "id": "2820cdf0"
    },
    {
      "cell_type": "code",
      "execution_count": 20,
      "metadata": {
        "colab": {
          "base_uri": "https://localhost:8080/"
        },
        "id": "44a28535",
        "outputId": "19232d23-4140-43e9-84e3-58b0302a91d6"
      },
      "outputs": [
        {
          "output_type": "stream",
          "name": "stdout",
          "text": [
            "                    step      type    amount  nameOrig  oldbalanceOrg  \\\n",
            "step            1.000000  0.006635  0.022373 -0.000146      -0.010058   \n",
            "type            0.006635  1.000000  0.088419  0.000213      -0.339760   \n",
            "amount          0.022373  0.088419  1.000000  0.000124      -0.002762   \n",
            "nameOrig       -0.000146  0.000213  0.000124  1.000000      -0.000648   \n",
            "oldbalanceOrg  -0.010058 -0.339760 -0.002762 -0.000648       1.000000   \n",
            "newbalanceOrig -0.010299 -0.352758 -0.007861 -0.000675       0.998803   \n",
            "nameDest        0.003767  0.584275 -0.169150 -0.000256      -0.162688   \n",
            "oldbalanceDest  0.027665 -0.104679  0.294137  0.000245       0.066243   \n",
            "newbalanceDest  0.025888 -0.059364  0.459304  0.000255       0.042029   \n",
            "isFraud         0.031578  0.020833  0.076688 -0.000464       0.010154   \n",
            "isFlaggedFraud  0.003277  0.002685  0.012295  0.000667       0.003835   \n",
            "\n",
            "                newbalanceOrig  nameDest  oldbalanceDest  newbalanceDest  \\\n",
            "step                 -0.010299  0.003767        0.027665        0.025888   \n",
            "type                 -0.352758  0.584275       -0.104679       -0.059364   \n",
            "amount               -0.007861 -0.169150        0.294137        0.459304   \n",
            "nameOrig             -0.000675 -0.000256        0.000245        0.000255   \n",
            "oldbalanceOrg         0.998803 -0.162688        0.066243        0.042029   \n",
            "newbalanceOrig        1.000000 -0.166489        0.067812        0.041837   \n",
            "nameDest             -0.166489  1.000000       -0.198119       -0.203992   \n",
            "oldbalanceDest        0.067812 -0.198119        1.000000        0.976569   \n",
            "newbalanceDest        0.041837 -0.203992        0.976569        1.000000   \n",
            "isFraud              -0.008148 -0.021963       -0.005885        0.000535   \n",
            "isFlaggedFraud        0.003776 -0.001122       -0.000513       -0.000529   \n",
            "\n",
            "                 isFraud  isFlaggedFraud  \n",
            "step            0.031578        0.003277  \n",
            "type            0.020833        0.002685  \n",
            "amount          0.076688        0.012295  \n",
            "nameOrig       -0.000464        0.000667  \n",
            "oldbalanceOrg   0.010154        0.003835  \n",
            "newbalanceOrig -0.008148        0.003776  \n",
            "nameDest       -0.021963       -0.001122  \n",
            "oldbalanceDest -0.005885       -0.000513  \n",
            "newbalanceDest  0.000535       -0.000529  \n",
            "isFraud         1.000000        0.044109  \n",
            "isFlaggedFraud  0.044109        1.000000  \n"
          ]
        }
      ],
      "source": [
        "corr = df.corr()\n",
        "print(corr)"
      ],
      "id": "44a28535"
    },
    {
      "cell_type": "code",
      "execution_count": 21,
      "metadata": {
        "id": "a6d43f2c"
      },
      "outputs": [],
      "source": [
        "df.drop('newbalanceOrig', axis=1, inplace=True)"
      ],
      "id": "a6d43f2c"
    },
    {
      "cell_type": "markdown",
      "metadata": {
        "id": "e6969b0b"
      },
      "source": [
        "# Q2. Describe your fraud detection model in elaboration."
      ],
      "id": "e6969b0b"
    },
    {
      "cell_type": "markdown",
      "metadata": {
        "id": "57abf10c"
      },
      "source": [
        "### The Fraud detection model follows these key steps:\n",
        "\n",
        "#### 1. Data Cleaning :-\n",
        "\n",
        "For preparation of data modeling the Missing Values, outliers and highly correlated features are handled\n",
        "\n",
        "#### 2. Feature Engineering :-\n",
        "\n",
        "a. Categorical variables are encoded into dummy variables using LabelEncoder from sklearn.preprocessing.\n",
        "\n",
        "b. Continuous variables are standardized by removing the mean and scaling to unit variance. This puts all features on the same scale.\n",
        "\n",
        "#### 3. Train-Test Split :-\n",
        "\n",
        "The data is split into a training set (70%) and a test set (30%) using sklearn's train_test_split.\n",
        "\n",
        "#### 4. Model Training :-\n",
        "\n",
        "A XGBClassifier is trained on the training data. It trains the model in an additive and sequential manner. XGBClassifier minimizes loss when adding new trees, using loss functions.\n",
        "\n",
        "#### 5. Prediction :-\n",
        "\n",
        "The trained model is used to generate predictions on the held-out test data.\n",
        "We now make predictions on the test data based on the train data.\n",
        "\n",
        "#### 6. Evaluation :-\n",
        "\n",
        "We now calculate the metrics like Accuracy, Precision, Recall, which tells us how well the model is performing on new unseen data."
      ],
      "id": "57abf10c"
    },
    {
      "cell_type": "markdown",
      "metadata": {
        "id": "2ceb13a4"
      },
      "source": [
        "# Q3. How did you select variables to be included in the model?"
      ],
      "id": "2ceb13a4"
    },
    {
      "cell_type": "markdown",
      "metadata": {
        "id": "7d7d9af8"
      },
      "source": [
        "### There are a few key steps I followed for selecting which variables to include in the fraud detection model:\n",
        "\n",
        "#### 1. Dataset Knowledge:-\n",
        "\n",
        "I first looked at the meaning and context of each variable based on prior knowledge from data dictionary. This gave me an idea of which variables are likely to be relevant predictors.\n",
        "\n",
        "For example, the 'amount' of a transaction is likely an important indicator. Large transaction amounts may be more suspicious.\n",
        "\n",
        "#### 2. Checking of Missing Value:-\n",
        "I checked for missing values in each variable. Those with a high percentage of missing values may not be good candidates.\n",
        "\n",
        "#### 3. Correlation Analysis:-\n",
        "I calculated the correlation between continuous variables. Highly correlated variables ie. r > 0.9, were dropped to avoid multicollinearity issues.\n",
        "\n"
      ],
      "id": "7d7d9af8"
    },
    {
      "cell_type": "markdown",
      "metadata": {
        "id": "ab3bfa2e"
      },
      "source": [
        "# Q4. Demonstrate the performance of the model by using best set of tools."
      ],
      "id": "ab3bfa2e"
    },
    {
      "cell_type": "markdown",
      "metadata": {
        "id": "3be08293"
      },
      "source": [
        "### Train-Test Split"
      ],
      "id": "3be08293"
    },
    {
      "cell_type": "code",
      "execution_count": 22,
      "metadata": {
        "id": "e6b74fce"
      },
      "outputs": [],
      "source": [
        "X = df.drop('isFraud', axis=1)\n",
        "y = df['isFraud']"
      ],
      "id": "e6b74fce"
    },
    {
      "cell_type": "code",
      "execution_count": 23,
      "metadata": {
        "id": "78eb3380"
      },
      "outputs": [],
      "source": [
        "X_train, X_test, y_train, y_test = train_test_split(X, y, test_size=0.3, random_state=42)"
      ],
      "id": "78eb3380"
    },
    {
      "cell_type": "markdown",
      "metadata": {
        "id": "3fc5094e"
      },
      "source": [
        "### Model Training"
      ],
      "id": "3fc5094e"
    },
    {
      "cell_type": "code",
      "execution_count": 24,
      "metadata": {
        "id": "ae890ffe",
        "colab": {
          "base_uri": "https://localhost:8080/",
          "height": 248
        },
        "outputId": "5f2e4ce0-a6d1-4ac5-db36-6a5577db193b"
      },
      "outputs": [
        {
          "output_type": "execute_result",
          "data": {
            "text/plain": [
              "XGBClassifier(base_score=None, booster=None, callbacks=None,\n",
              "              colsample_bylevel=None, colsample_bynode=None,\n",
              "              colsample_bytree=None, early_stopping_rounds=None,\n",
              "              enable_categorical=False, eval_metric=None, feature_types=None,\n",
              "              gamma=None, gpu_id=None, grow_policy=None, importance_type=None,\n",
              "              interaction_constraints=None, learning_rate=None, max_bin=None,\n",
              "              max_cat_threshold=None, max_cat_to_onehot=None,\n",
              "              max_delta_step=None, max_depth=None, max_leaves=None,\n",
              "              min_child_weight=None, missing=nan, monotone_constraints=None,\n",
              "              n_estimators=100, n_jobs=None, num_parallel_tree=None,\n",
              "              predictor=None, random_state=None, ...)"
            ],
            "text/html": [
              "<style>#sk-container-id-1 {color: black;}#sk-container-id-1 pre{padding: 0;}#sk-container-id-1 div.sk-toggleable {background-color: white;}#sk-container-id-1 label.sk-toggleable__label {cursor: pointer;display: block;width: 100%;margin-bottom: 0;padding: 0.3em;box-sizing: border-box;text-align: center;}#sk-container-id-1 label.sk-toggleable__label-arrow:before {content: \"▸\";float: left;margin-right: 0.25em;color: #696969;}#sk-container-id-1 label.sk-toggleable__label-arrow:hover:before {color: black;}#sk-container-id-1 div.sk-estimator:hover label.sk-toggleable__label-arrow:before {color: black;}#sk-container-id-1 div.sk-toggleable__content {max-height: 0;max-width: 0;overflow: hidden;text-align: left;background-color: #f0f8ff;}#sk-container-id-1 div.sk-toggleable__content pre {margin: 0.2em;color: black;border-radius: 0.25em;background-color: #f0f8ff;}#sk-container-id-1 input.sk-toggleable__control:checked~div.sk-toggleable__content {max-height: 200px;max-width: 100%;overflow: auto;}#sk-container-id-1 input.sk-toggleable__control:checked~label.sk-toggleable__label-arrow:before {content: \"▾\";}#sk-container-id-1 div.sk-estimator input.sk-toggleable__control:checked~label.sk-toggleable__label {background-color: #d4ebff;}#sk-container-id-1 div.sk-label input.sk-toggleable__control:checked~label.sk-toggleable__label {background-color: #d4ebff;}#sk-container-id-1 input.sk-hidden--visually {border: 0;clip: rect(1px 1px 1px 1px);clip: rect(1px, 1px, 1px, 1px);height: 1px;margin: -1px;overflow: hidden;padding: 0;position: absolute;width: 1px;}#sk-container-id-1 div.sk-estimator {font-family: monospace;background-color: #f0f8ff;border: 1px dotted black;border-radius: 0.25em;box-sizing: border-box;margin-bottom: 0.5em;}#sk-container-id-1 div.sk-estimator:hover {background-color: #d4ebff;}#sk-container-id-1 div.sk-parallel-item::after {content: \"\";width: 100%;border-bottom: 1px solid gray;flex-grow: 1;}#sk-container-id-1 div.sk-label:hover label.sk-toggleable__label {background-color: #d4ebff;}#sk-container-id-1 div.sk-serial::before {content: \"\";position: absolute;border-left: 1px solid gray;box-sizing: border-box;top: 0;bottom: 0;left: 50%;z-index: 0;}#sk-container-id-1 div.sk-serial {display: flex;flex-direction: column;align-items: center;background-color: white;padding-right: 0.2em;padding-left: 0.2em;position: relative;}#sk-container-id-1 div.sk-item {position: relative;z-index: 1;}#sk-container-id-1 div.sk-parallel {display: flex;align-items: stretch;justify-content: center;background-color: white;position: relative;}#sk-container-id-1 div.sk-item::before, #sk-container-id-1 div.sk-parallel-item::before {content: \"\";position: absolute;border-left: 1px solid gray;box-sizing: border-box;top: 0;bottom: 0;left: 50%;z-index: -1;}#sk-container-id-1 div.sk-parallel-item {display: flex;flex-direction: column;z-index: 1;position: relative;background-color: white;}#sk-container-id-1 div.sk-parallel-item:first-child::after {align-self: flex-end;width: 50%;}#sk-container-id-1 div.sk-parallel-item:last-child::after {align-self: flex-start;width: 50%;}#sk-container-id-1 div.sk-parallel-item:only-child::after {width: 0;}#sk-container-id-1 div.sk-dashed-wrapped {border: 1px dashed gray;margin: 0 0.4em 0.5em 0.4em;box-sizing: border-box;padding-bottom: 0.4em;background-color: white;}#sk-container-id-1 div.sk-label label {font-family: monospace;font-weight: bold;display: inline-block;line-height: 1.2em;}#sk-container-id-1 div.sk-label-container {text-align: center;}#sk-container-id-1 div.sk-container {/* jupyter's `normalize.less` sets `[hidden] { display: none; }` but bootstrap.min.css set `[hidden] { display: none !important; }` so we also need the `!important` here to be able to override the default hidden behavior on the sphinx rendered scikit-learn.org. See: https://github.com/scikit-learn/scikit-learn/issues/21755 */display: inline-block !important;position: relative;}#sk-container-id-1 div.sk-text-repr-fallback {display: none;}</style><div id=\"sk-container-id-1\" class=\"sk-top-container\"><div class=\"sk-text-repr-fallback\"><pre>XGBClassifier(base_score=None, booster=None, callbacks=None,\n",
              "              colsample_bylevel=None, colsample_bynode=None,\n",
              "              colsample_bytree=None, early_stopping_rounds=None,\n",
              "              enable_categorical=False, eval_metric=None, feature_types=None,\n",
              "              gamma=None, gpu_id=None, grow_policy=None, importance_type=None,\n",
              "              interaction_constraints=None, learning_rate=None, max_bin=None,\n",
              "              max_cat_threshold=None, max_cat_to_onehot=None,\n",
              "              max_delta_step=None, max_depth=None, max_leaves=None,\n",
              "              min_child_weight=None, missing=nan, monotone_constraints=None,\n",
              "              n_estimators=100, n_jobs=None, num_parallel_tree=None,\n",
              "              predictor=None, random_state=None, ...)</pre><b>In a Jupyter environment, please rerun this cell to show the HTML representation or trust the notebook. <br />On GitHub, the HTML representation is unable to render, please try loading this page with nbviewer.org.</b></div><div class=\"sk-container\" hidden><div class=\"sk-item\"><div class=\"sk-estimator sk-toggleable\"><input class=\"sk-toggleable__control sk-hidden--visually\" id=\"sk-estimator-id-1\" type=\"checkbox\" checked><label for=\"sk-estimator-id-1\" class=\"sk-toggleable__label sk-toggleable__label-arrow\">XGBClassifier</label><div class=\"sk-toggleable__content\"><pre>XGBClassifier(base_score=None, booster=None, callbacks=None,\n",
              "              colsample_bylevel=None, colsample_bynode=None,\n",
              "              colsample_bytree=None, early_stopping_rounds=None,\n",
              "              enable_categorical=False, eval_metric=None, feature_types=None,\n",
              "              gamma=None, gpu_id=None, grow_policy=None, importance_type=None,\n",
              "              interaction_constraints=None, learning_rate=None, max_bin=None,\n",
              "              max_cat_threshold=None, max_cat_to_onehot=None,\n",
              "              max_delta_step=None, max_depth=None, max_leaves=None,\n",
              "              min_child_weight=None, missing=nan, monotone_constraints=None,\n",
              "              n_estimators=100, n_jobs=None, num_parallel_tree=None,\n",
              "              predictor=None, random_state=None, ...)</pre></div></div></div></div></div>"
            ]
          },
          "metadata": {},
          "execution_count": 24
        }
      ],
      "source": [
        "from xgboost import XGBClassifier\n",
        "model = XGBClassifier()\n",
        "model.fit(X_train, y_train)"
      ],
      "id": "ae890ffe"
    },
    {
      "cell_type": "markdown",
      "metadata": {
        "id": "a6d353b9"
      },
      "source": [
        "### Prediction"
      ],
      "id": "a6d353b9"
    },
    {
      "cell_type": "code",
      "execution_count": 25,
      "metadata": {
        "id": "234f30bf"
      },
      "outputs": [],
      "source": [
        "y_pred = model.predict(X_test)"
      ],
      "id": "234f30bf"
    },
    {
      "cell_type": "markdown",
      "metadata": {
        "id": "aafffca7"
      },
      "source": [
        "### Evaluation"
      ],
      "id": "aafffca7"
    },
    {
      "cell_type": "code",
      "execution_count": 27,
      "metadata": {
        "id": "mjEAzOVJX4qk"
      },
      "outputs": [],
      "source": [
        "from sklearn.metrics import accuracy_score, precision_score, recall_score"
      ],
      "id": "mjEAzOVJX4qk"
    },
    {
      "cell_type": "code",
      "execution_count": 28,
      "metadata": {
        "id": "a4fe0131",
        "colab": {
          "base_uri": "https://localhost:8080/"
        },
        "outputId": "6dc7540d-585d-4fb6-e450-63df55eefd30"
      },
      "outputs": [
        {
          "output_type": "stream",
          "name": "stdout",
          "text": [
            "Accuracy Score: 0.9997218127123733\n",
            "Precision Score: 0.977432296890672\n",
            "Recall Score: 0.8004106776180698\n"
          ]
        }
      ],
      "source": [
        "accuracy = accuracy_score(y_test, y_pred)\n",
        "precision = precision_score(y_test, y_pred)\n",
        "recall = recall_score(y_test, y_pred)\n",
        "\n",
        "print(\"Accuracy Score:\", accuracy)\n",
        "print(\"Precision Score:\", precision)\n",
        "print(\"Recall Score:\", recall)\n"
      ],
      "id": "a4fe0131"
    },
    {
      "cell_type": "markdown",
      "metadata": {
        "id": "847cbe31"
      },
      "source": [
        "# Q5. What are the key factors that predict fraudulent customer?"
      ],
      "id": "847cbe31"
    },
    {
      "cell_type": "markdown",
      "metadata": {
        "id": "c4275004"
      },
      "source": [
        "### The key factors that predict fraudulent customer are as follows:\n",
        "\n",
        "#### Transaction Amount:\n",
        "Very high transaction amounts are more suspicious, as fraudsters often try to maximize their profit from each stolen account.\n",
        "\n",
        "#### Change in Account Balance:\n",
        "Sudden large changes in account balances, either positive or negative, could indicate fraud activity.\n",
        "\n",
        "####Transaction Type:\n",
        "Type of Transaction is also a main main factor, where type 'transfer' can be the major source.\n",
        "\n",
        "#### New Counterparties:\n",
        "nameOrig/nameDest relationships shows that Transactions with new person that customer doesn't normally interact with are riskier."
      ],
      "id": "c4275004"
    },
    {
      "cell_type": "markdown",
      "metadata": {
        "id": "d3d81cfe"
      },
      "source": [
        "# Q6. Do these factors make sense? If yes, How? If not, How not?"
      ],
      "id": "d3d81cfe"
    },
    {
      "cell_type": "markdown",
      "metadata": {
        "id": "288d15e4"
      },
      "source": [
        "### Yes, the key factors predicted by the model to indicate fraud transactions generally make sense:\n",
        "\n",
        "#### Transaction Amount:\n",
        "This makes sense as a key indicator because fraudsters will often attempt large transfers to maximize their gain, whereas legitimate transactions are more likely to be small routine amounts. So unusually large amounts raise suspicion.\n",
        "\n",
        "#### Account Balance Changes:\n",
        "Sudden spikes or drops in an account balance from a customer's normal patterns could imply fraudulent activity, so this is a sensible factor.\n",
        "\n",
        "#### Transfer Destination:\n",
        "The model identifying certain high-risk recipient accounts makes sense, as fraudsters may reuse accounts under their control.\n",
        "\n",
        "#### Transaction Type:\n",
        "Cash withdrawals or transfers have higher fraud risk than routine payments. So weighting the transaction type is reasonable.\n",
        "\n",
        "#### New Counterparties:\n",
        "Transacting with new unknown origin indicates risk, so tracking relationships makes sense."
      ],
      "id": "288d15e4"
    },
    {
      "cell_type": "markdown",
      "metadata": {
        "id": "0b6fc6ea"
      },
      "source": [
        "# Q7. What kind of prevention should be adopted while company update its infrastructure?\n"
      ],
      "id": "0b6fc6ea"
    },
    {
      "cell_type": "markdown",
      "metadata": {
        "id": "dab50d34"
      },
      "source": [
        "### Here are some fraud prevention measures a company should consider when updating its infrastructure:\n",
        "\n",
        "1. Implement multi-factor authentication for user accounts and transactions. This adds an extra layer of security beyond just a password.\n",
        "\n",
        "\n",
        "2. Use AI/ML models to score transactions in real-time for fraud risk. The model can flag high risk transactions for further review.\n",
        "\n",
        "\n",
        "3. Install security updates and patches promptly to fix known vulnerabilities. Keep all software up-to-date.\n",
        "\n",
        "\n",
        "4. Mask or tokenize payment card and account numbers. Don't store full account details.\n",
        "\n",
        "\n",
        "5. Require strong passwords and implement password rotation policies. Enforce password complexity rules.\n",
        "\n",
        "\n",
        "6. Implement principles of zero trust architecture with strict access controls.\n",
        "\n",
        "\n",
        "7. Conduct regular security audits and risk assessments, especially after major updates.\n",
        "\n",
        "\n",
        "8. Provide security awareness training to employees to create a human firewall.\n",
        "\n",
        "\n",
        "9. Maintain backups and disaster recovery systems in case of breaches."
      ],
      "id": "dab50d34"
    },
    {
      "cell_type": "markdown",
      "metadata": {
        "id": "caeea877"
      },
      "source": [
        "# Q8. Assuming these actions have been implemented, how would you determine if they work"
      ],
      "id": "caeea877"
    },
    {
      "cell_type": "markdown",
      "metadata": {
        "id": "e89c8383"
      },
      "source": [
        "### There are a few ways to evaluate the effectiveness of the fraud prevention measures after implementing them:\n",
        "\n",
        "#### 1. Monitoring the fraud rates\n",
        "    . Calculate fraud rates monthly/quarterly before and after implementation\n",
        "\n",
        "#### Penetration testing\n",
        "    . Hire ethical hackers or a security firm to try to breach defenses\n",
        "    . Gauge how well they are able to penetrate the system\n",
        "    . Identify any weak points or gaps for improvement\n",
        "\n",
        "#### Security audits\n",
        "    . Both internal and external security audits\n",
        "    . Auditors will try to bypass controls and access data\n",
        "\n",
        "#### Customer feedback\n",
        "    . Monitor complaints related to fraud post-implementation\n",
        "    . Decline in complaints implies improvement\n"
      ],
      "id": "e89c8383"
    }
  ],
  "metadata": {
    "colab": {
      "provenance": []
    },
    "kernelspec": {
      "display_name": "Python 3 (ipykernel)",
      "language": "python",
      "name": "python3"
    },
    "language_info": {
      "codemirror_mode": {
        "name": "ipython",
        "version": 3
      },
      "file_extension": ".py",
      "mimetype": "text/x-python",
      "name": "python",
      "nbconvert_exporter": "python",
      "pygments_lexer": "ipython3",
      "version": "3.9.13"
    }
  },
  "nbformat": 4,
  "nbformat_minor": 5
}